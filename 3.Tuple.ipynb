{
 "cells": [
  {
   "cell_type": "code",
   "execution_count": 1,
   "id": "f08c75ac",
   "metadata": {},
   "outputs": [
    {
     "data": {
      "text/plain": [
       "()"
      ]
     },
     "execution_count": 1,
     "metadata": {},
     "output_type": "execute_result"
    }
   ],
   "source": [
    "tuple1 = ()\n",
    "tuple()"
   ]
  },
  {
   "cell_type": "code",
   "execution_count": 2,
   "id": "887f58c7",
   "metadata": {},
   "outputs": [],
   "source": [
    "tuple2 = (10,20,30)"
   ]
  },
  {
   "cell_type": "code",
   "execution_count": 3,
   "id": "4a0183bc",
   "metadata": {},
   "outputs": [
    {
     "data": {
      "text/plain": [
       "(10, 20, 30)"
      ]
     },
     "execution_count": 3,
     "metadata": {},
     "output_type": "execute_result"
    }
   ],
   "source": [
    "tuple2"
   ]
  },
  {
   "cell_type": "code",
   "execution_count": 4,
   "id": "13992e32",
   "metadata": {},
   "outputs": [],
   "source": [
    "tuple3 = (10,77,20,1,55)"
   ]
  },
  {
   "cell_type": "code",
   "execution_count": 5,
   "id": "396d19c3",
   "metadata": {},
   "outputs": [
    {
     "data": {
      "text/plain": [
       "(10, 77, 20, 1, 55)"
      ]
     },
     "execution_count": 5,
     "metadata": {},
     "output_type": "execute_result"
    }
   ],
   "source": [
    "tuple3"
   ]
  },
  {
   "cell_type": "code",
   "execution_count": 6,
   "id": "dfcd7091",
   "metadata": {},
   "outputs": [],
   "source": [
    "tuple4 = ('a','g','u','i','z')"
   ]
  },
  {
   "cell_type": "code",
   "execution_count": 7,
   "id": "68080833",
   "metadata": {},
   "outputs": [
    {
     "data": {
      "text/plain": [
       "('a', 'g', 'u', 'i', 'z')"
      ]
     },
     "execution_count": 7,
     "metadata": {},
     "output_type": "execute_result"
    }
   ],
   "source": [
    "tuple4"
   ]
  },
  {
   "cell_type": "code",
   "execution_count": 8,
   "id": "26a401ae",
   "metadata": {},
   "outputs": [],
   "source": [
    "tuple5 = ('asif',10,1+2j,True)"
   ]
  },
  {
   "cell_type": "code",
   "execution_count": 9,
   "id": "f944ca66",
   "metadata": {},
   "outputs": [
    {
     "data": {
      "text/plain": [
       "('asif', 10, (1+2j), True)"
      ]
     },
     "execution_count": 9,
     "metadata": {},
     "output_type": "execute_result"
    }
   ],
   "source": [
    "tuple5"
   ]
  },
  {
   "cell_type": "code",
   "execution_count": 10,
   "id": "661ff688",
   "metadata": {},
   "outputs": [],
   "source": [
    "t6 = ('asif',100,33.88,'a')"
   ]
  },
  {
   "cell_type": "code",
   "execution_count": 11,
   "id": "d22ce295",
   "metadata": {},
   "outputs": [
    {
     "data": {
      "text/plain": [
       "('asif', 100, 33.88, 'a')"
      ]
     },
     "execution_count": 11,
     "metadata": {},
     "output_type": "execute_result"
    }
   ],
   "source": [
    "t6"
   ]
  },
  {
   "cell_type": "code",
   "execution_count": 12,
   "id": "0a22916b",
   "metadata": {},
   "outputs": [],
   "source": [
    "t7 = ('asif',25,[50,100],[150,90],{'john','david'})"
   ]
  },
  {
   "cell_type": "code",
   "execution_count": 13,
   "id": "8236803f",
   "metadata": {},
   "outputs": [
    {
     "data": {
      "text/plain": [
       "('asif', 25, [50, 100], [150, 90], {'david', 'john'})"
      ]
     },
     "execution_count": 13,
     "metadata": {},
     "output_type": "execute_result"
    }
   ],
   "source": [
    "t7"
   ]
  },
  {
   "cell_type": "code",
   "execution_count": 14,
   "id": "52a3bd09",
   "metadata": {},
   "outputs": [
    {
     "data": {
      "text/plain": [
       "5"
      ]
     },
     "execution_count": 14,
     "metadata": {},
     "output_type": "execute_result"
    }
   ],
   "source": [
    "len(t7)"
   ]
  },
  {
   "cell_type": "markdown",
   "id": "391baab5",
   "metadata": {},
   "source": [
    "# tuple indexing"
   ]
  },
  {
   "cell_type": "code",
   "execution_count": 15,
   "id": "50e2c812",
   "metadata": {},
   "outputs": [
    {
     "data": {
      "text/plain": [
       "10"
      ]
     },
     "execution_count": 15,
     "metadata": {},
     "output_type": "execute_result"
    }
   ],
   "source": [
    "tuple2[0]"
   ]
  },
  {
   "cell_type": "code",
   "execution_count": 16,
   "id": "880fb4ed",
   "metadata": {},
   "outputs": [
    {
     "data": {
      "text/plain": [
       "'a'"
      ]
     },
     "execution_count": 16,
     "metadata": {},
     "output_type": "execute_result"
    }
   ],
   "source": [
    "tuple4[0]"
   ]
  },
  {
   "cell_type": "markdown",
   "id": "139b7770",
   "metadata": {},
   "source": [
    "# tuple Slicing"
   ]
  },
  {
   "cell_type": "code",
   "execution_count": 17,
   "id": "7d67747f",
   "metadata": {},
   "outputs": [],
   "source": [
    "mytuple = ('one','two','three','four','five','six','seven','eight','nine')"
   ]
  },
  {
   "cell_type": "code",
   "execution_count": 18,
   "id": "1cd4dd03",
   "metadata": {},
   "outputs": [
    {
     "data": {
      "text/plain": [
       "('one', 'two', 'three')"
      ]
     },
     "execution_count": 18,
     "metadata": {},
     "output_type": "execute_result"
    }
   ],
   "source": [
    "mytuple[0:3]"
   ]
  },
  {
   "cell_type": "code",
   "execution_count": 19,
   "id": "210d0873",
   "metadata": {},
   "outputs": [
    {
     "data": {
      "text/plain": [
       "('three', 'four', 'five')"
      ]
     },
     "execution_count": 19,
     "metadata": {},
     "output_type": "execute_result"
    }
   ],
   "source": [
    "mytuple[2:5]"
   ]
  },
  {
   "cell_type": "code",
   "execution_count": 20,
   "id": "9d882a93",
   "metadata": {},
   "outputs": [
    {
     "data": {
      "text/plain": [
       "('one', 'two', 'three')"
      ]
     },
     "execution_count": 20,
     "metadata": {},
     "output_type": "execute_result"
    }
   ],
   "source": [
    "mytuple[:3]"
   ]
  },
  {
   "cell_type": "code",
   "execution_count": 21,
   "id": "4e88e627",
   "metadata": {},
   "outputs": [
    {
     "data": {
      "text/plain": [
       "('one', 'two')"
      ]
     },
     "execution_count": 21,
     "metadata": {},
     "output_type": "execute_result"
    }
   ],
   "source": [
    "mytuple[:2]"
   ]
  },
  {
   "cell_type": "code",
   "execution_count": 22,
   "id": "7b4b8ae3",
   "metadata": {},
   "outputs": [
    {
     "data": {
      "text/plain": [
       "('seven', 'eight', 'nine')"
      ]
     },
     "execution_count": 22,
     "metadata": {},
     "output_type": "execute_result"
    }
   ],
   "source": [
    "mytuple[-3:]"
   ]
  },
  {
   "cell_type": "code",
   "execution_count": 23,
   "id": "988d7cbe",
   "metadata": {},
   "outputs": [
    {
     "data": {
      "text/plain": [
       "('eight', 'nine')"
      ]
     },
     "execution_count": 23,
     "metadata": {},
     "output_type": "execute_result"
    }
   ],
   "source": [
    "mytuple[-2:]"
   ]
  },
  {
   "cell_type": "code",
   "execution_count": 24,
   "id": "a9a0ceaa",
   "metadata": {},
   "outputs": [
    {
     "data": {
      "text/plain": [
       "'nine'"
      ]
     },
     "execution_count": 24,
     "metadata": {},
     "output_type": "execute_result"
    }
   ],
   "source": [
    "mytuple[-1]"
   ]
  },
  {
   "cell_type": "code",
   "execution_count": 25,
   "id": "67ed21a4",
   "metadata": {},
   "outputs": [
    {
     "data": {
      "text/plain": [
       "('one', 'two', 'three', 'four', 'five', 'six', 'seven', 'eight', 'nine')"
      ]
     },
     "execution_count": 25,
     "metadata": {},
     "output_type": "execute_result"
    }
   ],
   "source": [
    "mytuple[:]"
   ]
  },
  {
   "cell_type": "markdown",
   "id": "30286d9f",
   "metadata": {},
   "source": [
    "# Remove&Change Items"
   ]
  },
  {
   "cell_type": "code",
   "execution_count": 26,
   "id": "db181dd3",
   "metadata": {},
   "outputs": [
    {
     "data": {
      "text/plain": [
       "('one', 'two', 'three', 'four', 'five', 'six', 'seven', 'eight', 'nine')"
      ]
     },
     "execution_count": 26,
     "metadata": {},
     "output_type": "execute_result"
    }
   ],
   "source": [
    "mytuple"
   ]
  },
  {
   "cell_type": "code",
   "execution_count": 27,
   "id": "597e247e",
   "metadata": {},
   "outputs": [
    {
     "ename": "TypeError",
     "evalue": "'tuple' object doesn't support item deletion",
     "output_type": "error",
     "traceback": [
      "\u001b[1;31m---------------------------------------------------------------------------\u001b[0m",
      "\u001b[1;31mTypeError\u001b[0m                                 Traceback (most recent call last)",
      "Input \u001b[1;32mIn [27]\u001b[0m, in \u001b[0;36m<cell line: 1>\u001b[1;34m()\u001b[0m\n\u001b[1;32m----> 1\u001b[0m \u001b[38;5;28;01mdel\u001b[39;00m mytuple[\u001b[38;5;241m0\u001b[39m]\n",
      "\u001b[1;31mTypeError\u001b[0m: 'tuple' object doesn't support item deletion"
     ]
    }
   ],
   "source": [
    "del mytuple[0]"
   ]
  },
  {
   "cell_type": "code",
   "execution_count": null,
   "id": "4a29f19b",
   "metadata": {},
   "outputs": [],
   "source": [
    "mytuple"
   ]
  },
  {
   "cell_type": "code",
   "execution_count": null,
   "id": "8c156e08",
   "metadata": {},
   "outputs": [],
   "source": [
    "for i in enumerate(mytuple):\n",
    "    print(i)"
   ]
  },
  {
   "cell_type": "markdown",
   "id": "579758cb",
   "metadata": {},
   "source": [
    "# tuple membership"
   ]
  },
  {
   "cell_type": "code",
   "execution_count": 28,
   "id": "8b1fbfe2",
   "metadata": {},
   "outputs": [
    {
     "data": {
      "text/plain": [
       "('one', 'two', 'three', 'four', 'five', 'six', 'seven', 'eight', 'nine')"
      ]
     },
     "execution_count": 28,
     "metadata": {},
     "output_type": "execute_result"
    }
   ],
   "source": [
    "mytuple"
   ]
  },
  {
   "cell_type": "code",
   "execution_count": 29,
   "id": "87ef9ba5",
   "metadata": {},
   "outputs": [
    {
     "data": {
      "text/plain": [
       "True"
      ]
     },
     "execution_count": 29,
     "metadata": {},
     "output_type": "execute_result"
    }
   ],
   "source": [
    "'one' in mytuple"
   ]
  },
  {
   "cell_type": "code",
   "execution_count": 30,
   "id": "41cea6ae",
   "metadata": {},
   "outputs": [
    {
     "data": {
      "text/plain": [
       "False"
      ]
     },
     "execution_count": 30,
     "metadata": {},
     "output_type": "execute_result"
    }
   ],
   "source": [
    "'ten' in mytuple"
   ]
  },
  {
   "cell_type": "code",
   "execution_count": 31,
   "id": "d31cf41c",
   "metadata": {},
   "outputs": [
    {
     "name": "stdout",
     "output_type": "stream",
     "text": [
      "Three is present in the tuple\n"
     ]
    }
   ],
   "source": [
    "if 'three' in mytuple:\n",
    "    print('Three is present in the tuple')\n",
    "else:\n",
    "    print('Three is not present in the tuple')"
   ]
  },
  {
   "cell_type": "markdown",
   "id": "c27b74bd",
   "metadata": {},
   "source": [
    "# Index position"
   ]
  },
  {
   "cell_type": "code",
   "execution_count": 32,
   "id": "7ca9ef16",
   "metadata": {},
   "outputs": [
    {
     "data": {
      "text/plain": [
       "('one', 'two', 'three', 'four', 'five', 'six', 'seven', 'eight', 'nine')"
      ]
     },
     "execution_count": 32,
     "metadata": {},
     "output_type": "execute_result"
    }
   ],
   "source": [
    "mytuple"
   ]
  },
  {
   "cell_type": "code",
   "execution_count": 33,
   "id": "4aea3964",
   "metadata": {},
   "outputs": [
    {
     "data": {
      "text/plain": [
       "0"
      ]
     },
     "execution_count": 33,
     "metadata": {},
     "output_type": "execute_result"
    }
   ],
   "source": [
    "mytuple.index('one')"
   ]
  },
  {
   "cell_type": "code",
   "execution_count": 34,
   "id": "5311e516",
   "metadata": {},
   "outputs": [
    {
     "data": {
      "text/plain": [
       "0"
      ]
     },
     "execution_count": 34,
     "metadata": {},
     "output_type": "execute_result"
    }
   ],
   "source": [
    "mytuple.index('one')"
   ]
  },
  {
   "cell_type": "code",
   "execution_count": 35,
   "id": "251059d6",
   "metadata": {},
   "outputs": [
    {
     "data": {
      "text/plain": [
       "4"
      ]
     },
     "execution_count": 35,
     "metadata": {},
     "output_type": "execute_result"
    }
   ],
   "source": [
    "mytuple.index('five')"
   ]
  },
  {
   "cell_type": "code",
   "execution_count": 36,
   "id": "146d49e8",
   "metadata": {},
   "outputs": [
    {
     "data": {
      "text/plain": [
       "('one', 'two', 'three', 'four', 'five', 'six', 'seven', 'eight', 'nine')"
      ]
     },
     "execution_count": 36,
     "metadata": {},
     "output_type": "execute_result"
    }
   ],
   "source": [
    "mytuple"
   ]
  },
  {
   "cell_type": "code",
   "execution_count": 37,
   "id": "fe872a3f",
   "metadata": {},
   "outputs": [
    {
     "data": {
      "text/plain": [
       "0"
      ]
     },
     "execution_count": 37,
     "metadata": {},
     "output_type": "execute_result"
    }
   ],
   "source": [
    "mytuple.index('one')"
   ]
  },
  {
   "cell_type": "markdown",
   "id": "545e605b",
   "metadata": {},
   "source": [
    "# Sorting"
   ]
  },
  {
   "cell_type": "code",
   "execution_count": 38,
   "id": "49afd691",
   "metadata": {},
   "outputs": [],
   "source": [
    "mytuple2 = (46,67,99,12,6,90,67)"
   ]
  },
  {
   "cell_type": "code",
   "execution_count": 39,
   "id": "da3d32c0",
   "metadata": {},
   "outputs": [
    {
     "data": {
      "text/plain": [
       "[6, 12, 46, 67, 67, 90, 99]"
      ]
     },
     "execution_count": 39,
     "metadata": {},
     "output_type": "execute_result"
    }
   ],
   "source": [
    "sorted(mytuple2)"
   ]
  },
  {
   "cell_type": "code",
   "execution_count": 40,
   "id": "1d0f6b31",
   "metadata": {},
   "outputs": [
    {
     "data": {
      "text/plain": [
       "[99, 90, 67, 67, 46, 12, 6]"
      ]
     },
     "execution_count": 40,
     "metadata": {},
     "output_type": "execute_result"
    }
   ],
   "source": [
    "sorted(mytuple2, reverse=True)"
   ]
  }
 ],
 "metadata": {
  "kernelspec": {
   "display_name": "Python 3 (ipykernel)",
   "language": "python",
   "name": "python3"
  },
  "language_info": {
   "codemirror_mode": {
    "name": "ipython",
    "version": 3
   },
   "file_extension": ".py",
   "mimetype": "text/x-python",
   "name": "python",
   "nbconvert_exporter": "python",
   "pygments_lexer": "ipython3",
   "version": "3.9.12"
  }
 },
 "nbformat": 4,
 "nbformat_minor": 5
}
