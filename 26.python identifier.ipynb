{
 "cells": [
  {
   "cell_type": "code",
   "execution_count": 2,
   "id": "6c2ad850-f3e0-4245-bcc8-f85993c92280",
   "metadata": {},
   "outputs": [
    {
     "data": {
      "text/plain": [
       "'welcome to nit'"
      ]
     },
     "execution_count": 2,
     "metadata": {},
     "output_type": "execute_result"
    }
   ],
   "source": [
    "'welcome to nit'"
   ]
  },
  {
   "cell_type": "code",
   "execution_count": 2,
   "id": "2e0a558e-111f-4852-a882-e818a6eb9f5c",
   "metadata": {},
   "outputs": [
    {
     "data": {
      "text/plain": [
       "5"
      ]
     },
     "execution_count": 2,
     "metadata": {},
     "output_type": "execute_result"
    }
   ],
   "source": [
    "2 + 3"
   ]
  },
  {
   "cell_type": "code",
   "execution_count": 8,
   "id": "89669de7-6242-466a-9597-9c4ddfb73601",
   "metadata": {},
   "outputs": [
    {
     "ename": "ZeroDivisionError",
     "evalue": "division by zero",
     "output_type": "error",
     "traceback": [
      "\u001b[1;31m---------------------------------------------------------------------------\u001b[0m",
      "\u001b[1;31mZeroDivisionError\u001b[0m                         Traceback (most recent call last)",
      "Cell \u001b[1;32mIn[8], line 1\u001b[0m\n\u001b[1;32m----> 1\u001b[0m \u001b[38;5;241m1\u001b[39m\u001b[38;5;241m/\u001b[39m\u001b[38;5;241m0\u001b[39m\n",
      "\u001b[1;31mZeroDivisionError\u001b[0m: division by zero"
     ]
    }
   ],
   "source": [
    "1/0"
   ]
  },
  {
   "cell_type": "code",
   "execution_count": 9,
   "id": "ea1662b5-9f80-488a-8756-701c42c16f63",
   "metadata": {},
   "outputs": [
    {
     "data": {
      "text/plain": [
       "0.0"
      ]
     },
     "execution_count": 9,
     "metadata": {},
     "output_type": "execute_result"
    }
   ],
   "source": [
    "0/1"
   ]
  },
  {
   "cell_type": "code",
   "execution_count": 12,
   "id": "68a01515-c918-4a5c-ad8f-622032e94a44",
   "metadata": {},
   "outputs": [
    {
     "data": {
      "text/plain": [
       "'3.11.7 | packaged by Anaconda, Inc. | (main, Dec 15 2023, 18:05:47) [MSC v.1916 64 bit (AMD64)]'"
      ]
     },
     "execution_count": 12,
     "metadata": {},
     "output_type": "execute_result"
    }
   ],
   "source": [
    "import sys\n",
    "sys.version"
   ]
  },
  {
   "cell_type": "markdown",
   "id": "886a5b5c-ea64-4f1b-8422-b686843306cf",
   "metadata": {},
   "source": [
    "# 2nd Nov "
   ]
  },
  {
   "cell_type": "code",
   "execution_count": 5,
   "id": "e0240f2f-5878-474a-b2ef-89b2507d40e6",
   "metadata": {},
   "outputs": [
    {
     "data": {
      "text/plain": [
       "str"
      ]
     },
     "execution_count": 5,
     "metadata": {},
     "output_type": "execute_result"
    }
   ],
   "source": [
    "a = '5.5'\n",
    "type(a)"
   ]
  },
  {
   "cell_type": "code",
   "execution_count": 10,
   "id": "33ca08f4-f1e5-4498-bc2d-c56fa76a81f2",
   "metadata": {},
   "outputs": [
    {
     "name": "stdout",
     "output_type": "stream",
     "text": [
      "hello\n",
      "hello\n",
      "hello\n",
      "hello\n"
     ]
    }
   ],
   "source": [
    "def greet():\n",
    "    print('hello')\n",
    "greet();\n",
    "\n",
    "def greet():\n",
    "    print('hello')\n",
    "greet();\n",
    "\n",
    "def greet():\n",
    "    print('hello')\n",
    "greet();\n",
    "\n",
    "def greet():\n",
    "    print('hello')\n",
    "greet();"
   ]
  },
  {
   "cell_type": "code",
   "execution_count": 11,
   "id": "c44ebafe-37a7-4999-912f-cce53eea67df",
   "metadata": {},
   "outputs": [
    {
     "name": "stdout",
     "output_type": "stream",
     "text": [
      "hello\n",
      "hello\n",
      "hello\n",
      "hello\n"
     ]
    }
   ],
   "source": [
    "def greet():\n",
    "    print('hello')\n",
    "greet();\n",
    "\n",
    "greet();\n",
    "\n",
    "greet();\n",
    "\n",
    "greet();"
   ]
  },
  {
   "cell_type": "markdown",
   "id": "4b2df882-1271-4246-9bad-08bfb570deb2",
   "metadata": {},
   "source": [
    "# python identifier or python variable or python object"
   ]
  },
  {
   "cell_type": "code",
   "execution_count": 3,
   "id": "2d4d1ccb-7b34-4782-b2c1-de48056e94c9",
   "metadata": {},
   "outputs": [
    {
     "data": {
      "text/plain": [
       "5.5"
      ]
     },
     "execution_count": 3,
     "metadata": {},
     "output_type": "execute_result"
    }
   ],
   "source": [
    "a = 5.5\n",
    "a"
   ]
  },
  {
   "cell_type": "code",
   "execution_count": 4,
   "id": "a7f25439-f6eb-46ba-ac05-c8f7c77e6940",
   "metadata": {},
   "outputs": [
    {
     "data": {
      "text/plain": [
       "float"
      ]
     },
     "execution_count": 4,
     "metadata": {},
     "output_type": "execute_result"
    }
   ],
   "source": [
    "type(a)"
   ]
  },
  {
   "cell_type": "code",
   "execution_count": 14,
   "id": "4dafc7ec-b336-4379-9849-07aadb18fc65",
   "metadata": {},
   "outputs": [
    {
     "data": {
      "text/plain": [
       "140708443177896"
      ]
     },
     "execution_count": 14,
     "metadata": {},
     "output_type": "execute_result"
    }
   ],
   "source": [
    "id(a)"
   ]
  },
  {
   "cell_type": "code",
   "execution_count": 15,
   "id": "ee62b35d-8567-4045-bd30-0f505f02f54f",
   "metadata": {},
   "outputs": [
    {
     "data": {
      "text/plain": [
       "6"
      ]
     },
     "execution_count": 15,
     "metadata": {},
     "output_type": "execute_result"
    }
   ],
   "source": [
    "a = 6\n",
    "a"
   ]
  },
  {
   "cell_type": "code",
   "execution_count": 16,
   "id": "0ac394cd-ecd3-4b02-9230-e37801f91b1b",
   "metadata": {},
   "outputs": [
    {
     "data": {
      "text/plain": [
       "140708443177928"
      ]
     },
     "execution_count": 16,
     "metadata": {},
     "output_type": "execute_result"
    }
   ],
   "source": [
    "id(a)"
   ]
  },
  {
   "cell_type": "markdown",
   "id": "4e627990-d557-486e-9980-8f35b5eb363c",
   "metadata": {},
   "source": [
    "# 4th NOV"
   ]
  },
  {
   "cell_type": "code",
   "execution_count": 5,
   "id": "93b861b9-dda1-4713-b85c-aaed940ff52a",
   "metadata": {},
   "outputs": [
    {
     "data": {
      "text/plain": [
       "5"
      ]
     },
     "execution_count": 5,
     "metadata": {},
     "output_type": "execute_result"
    }
   ],
   "source": [
    "v = 5\n",
    "v"
   ]
  },
  {
   "cell_type": "code",
   "execution_count": 6,
   "id": "5f9e04c9-5924-48f8-bcc9-5ce5d2ed19a0",
   "metadata": {},
   "outputs": [
    {
     "ename": "SyntaxError",
     "evalue": "cannot assign to literal here. Maybe you meant '==' instead of '='? (3239474762.py, line 1)",
     "output_type": "error",
     "traceback": [
      "\u001b[1;36m  Cell \u001b[1;32mIn[6], line 1\u001b[1;36m\u001b[0m\n\u001b[1;33m    5 = v\u001b[0m\n\u001b[1;37m    ^\u001b[0m\n\u001b[1;31mSyntaxError\u001b[0m\u001b[1;31m:\u001b[0m cannot assign to literal here. Maybe you meant '==' instead of '='?\n"
     ]
    }
   ],
   "source": [
    "5 = v "
   ]
  },
  {
   "cell_type": "code",
   "execution_count": 14,
   "id": "9310075a-b0fa-4500-a955-961ac7f7b913",
   "metadata": {},
   "outputs": [
    {
     "data": {
      "text/plain": [
       "140725538112424"
      ]
     },
     "execution_count": 14,
     "metadata": {},
     "output_type": "execute_result"
    }
   ],
   "source": [
    "id(v)"
   ]
  },
  {
   "cell_type": "code",
   "execution_count": 15,
   "id": "08ffc995-a090-4526-8fd8-0b3d7cc0ede0",
   "metadata": {},
   "outputs": [
    {
     "data": {
      "text/plain": [
       "5"
      ]
     },
     "execution_count": 15,
     "metadata": {},
     "output_type": "execute_result"
    }
   ],
   "source": [
    "v"
   ]
  },
  {
   "cell_type": "code",
   "execution_count": 16,
   "id": "95f29c27-fc85-48ba-b34b-43cc52ed1eed",
   "metadata": {},
   "outputs": [
    {
     "data": {
      "text/plain": [
       "5"
      ]
     },
     "execution_count": 16,
     "metadata": {},
     "output_type": "execute_result"
    }
   ],
   "source": [
    "i = 5\n",
    "i"
   ]
  },
  {
   "cell_type": "code",
   "execution_count": 17,
   "id": "e9f39b36-c304-41ad-849d-6cb5e516182c",
   "metadata": {},
   "outputs": [
    {
     "name": "stdout",
     "output_type": "stream",
     "text": [
      "5\n",
      "5\n"
     ]
    }
   ],
   "source": [
    "print(v)\n",
    "print(i)"
   ]
  },
  {
   "cell_type": "code",
   "execution_count": 18,
   "id": "a7615da4-1b1f-4764-92bd-8ee3cb22c033",
   "metadata": {},
   "outputs": [
    {
     "name": "stdout",
     "output_type": "stream",
     "text": [
      "140725538112424\n",
      "140725538112424\n"
     ]
    }
   ],
   "source": [
    "print(id(v))\n",
    "print(id(i))"
   ]
  },
  {
   "cell_type": "code",
   "execution_count": 19,
   "id": "40f6f167-e480-4f4c-8fd1-0f567622195e",
   "metadata": {},
   "outputs": [
    {
     "data": {
      "text/plain": [
       "6"
      ]
     },
     "execution_count": 19,
     "metadata": {},
     "output_type": "execute_result"
    }
   ],
   "source": [
    "o = 6\n",
    "o"
   ]
  },
  {
   "cell_type": "code",
   "execution_count": 25,
   "id": "9d2c8508-f563-41a8-bcda-3ea93f33059f",
   "metadata": {},
   "outputs": [
    {
     "name": "stdout",
     "output_type": "stream",
     "text": [
      "140725538112424\n",
      "140725538112424\n",
      "140725538112456\n"
     ]
    }
   ],
   "source": [
    "print(id(v)) # addres of v variable \n",
    "print(id(i)) # address of i variable or\n",
    "print(id(o))"
   ]
  },
  {
   "cell_type": "code",
   "execution_count": null,
   "id": "5f86a056-aa5c-4e75-811c-02a9bdd0e7ef",
   "metadata": {},
   "outputs": [],
   "source": [
    "write python program to add 2 variabel and i should get of  10 ? "
   ]
  },
  {
   "cell_type": "code",
   "execution_count": 23,
   "id": "9660e4fa-2fd7-4c5d-9941-f6ea53002046",
   "metadata": {},
   "outputs": [
    {
     "data": {
      "text/plain": [
       "10"
      ]
     },
     "execution_count": 23,
     "metadata": {},
     "output_type": "execute_result"
    }
   ],
   "source": [
    "a = 5\n",
    "b = 5\n",
    "a + b"
   ]
  },
  {
   "cell_type": "code",
   "execution_count": 26,
   "id": "a26a9ed3-4866-4509-bbab-a0c249d6f6ac",
   "metadata": {},
   "outputs": [
    {
     "data": {
      "text/plain": [
       "5"
      ]
     },
     "execution_count": 26,
     "metadata": {},
     "output_type": "execute_result"
    }
   ],
   "source": [
    "v"
   ]
  },
  {
   "cell_type": "markdown",
   "id": "3962f17b-9067-41cc-a82e-7def11a2f976",
   "metadata": {},
   "source": [
    "# rule to define python identifer "
   ]
  },
  {
   "cell_type": "code",
   "execution_count": 32,
   "id": "1a1bb8be-1f77-47f1-8896-f394aba10b4e",
   "metadata": {},
   "outputs": [
    {
     "ename": "NameError",
     "evalue": "name 'niT' is not defined",
     "output_type": "error",
     "traceback": [
      "\u001b[1;31m---------------------------------------------------------------------------\u001b[0m",
      "\u001b[1;31mNameError\u001b[0m                                 Traceback (most recent call last)",
      "Cell \u001b[1;32mIn[32], line 2\u001b[0m\n\u001b[0;32m      1\u001b[0m nit \u001b[38;5;241m=\u001b[39m \u001b[38;5;241m21\u001b[39m\n\u001b[1;32m----> 2\u001b[0m niT\n",
      "\u001b[1;31mNameError\u001b[0m: name 'niT' is not defined"
     ]
    }
   ],
   "source": [
    "nit = 21\n",
    "NIT"
   ]
  },
  {
   "cell_type": "code",
   "execution_count": 29,
   "id": "11773a39-7760-4436-abda-8aad0018cebd",
   "metadata": {},
   "outputs": [
    {
     "data": {
      "text/plain": [
       "21"
      ]
     },
     "execution_count": 29,
     "metadata": {},
     "output_type": "execute_result"
    }
   ],
   "source": [
    "nit"
   ]
  },
  {
   "cell_type": "code",
   "execution_count": 33,
   "id": "9f07d4bf-89e5-464a-b505-09deb4601243",
   "metadata": {},
   "outputs": [
    {
     "ename": "SyntaxError",
     "evalue": "invalid decimal literal (3634445868.py, line 1)",
     "output_type": "error",
     "traceback": [
      "\u001b[1;36m  Cell \u001b[1;32mIn[33], line 1\u001b[1;36m\u001b[0m\n\u001b[1;33m    2v = 50\u001b[0m\n\u001b[1;37m    ^\u001b[0m\n\u001b[1;31mSyntaxError\u001b[0m\u001b[1;31m:\u001b[0m invalid decimal literal\n"
     ]
    }
   ],
   "source": [
    "2v = 50\n",
    "2v"
   ]
  },
  {
   "cell_type": "code",
   "execution_count": 34,
   "id": "4e9503e8-a0b6-4103-b6de-0d455a8b9c04",
   "metadata": {},
   "outputs": [
    {
     "data": {
      "text/plain": [
       "50"
      ]
     },
     "execution_count": 34,
     "metadata": {},
     "output_type": "execute_result"
    }
   ],
   "source": [
    "v2 = 50\n",
    "v2"
   ]
  },
  {
   "cell_type": "code",
   "execution_count": 37,
   "id": "adaa90b8-1d52-417d-8816-35963368958f",
   "metadata": {},
   "outputs": [
    {
     "ename": "SyntaxError",
     "evalue": "invalid syntax (2835880555.py, line 1)",
     "output_type": "error",
     "traceback": [
      "\u001b[1;36m  Cell \u001b[1;32mIn[37], line 1\u001b[1;36m\u001b[0m\n\u001b[1;33m    v3* = 78\u001b[0m\n\u001b[1;37m        ^\u001b[0m\n\u001b[1;31mSyntaxError\u001b[0m\u001b[1;31m:\u001b[0m invalid syntax\n"
     ]
    }
   ],
   "source": [
    "v3* = 78"
   ]
  },
  {
   "cell_type": "code",
   "execution_count": 40,
   "id": "a395202d-d244-4b36-8d8f-de8fed330aab",
   "metadata": {},
   "outputs": [
    {
     "data": {
      "text/plain": [
       "67"
      ]
     },
     "execution_count": 40,
     "metadata": {},
     "output_type": "execute_result"
    }
   ],
   "source": [
    "v3_ = 67\n",
    "v3_"
   ]
  },
  {
   "cell_type": "code",
   "execution_count": 43,
   "id": "1ea9a758-e254-4eaf-bfa0-2b211d7a67ec",
   "metadata": {},
   "outputs": [
    {
     "data": {
      "text/plain": [
       "35"
      ]
     },
     "execution_count": 43,
     "metadata": {},
     "output_type": "execute_result"
    }
   ],
   "source": [
    "import keyword\n",
    "len(keyword.kwlist)"
   ]
  },
  {
   "cell_type": "code",
   "execution_count": 44,
   "id": "981137f9-8c50-4381-96ae-3bb86b23dfcd",
   "metadata": {},
   "outputs": [
    {
     "ename": "SyntaxError",
     "evalue": "invalid syntax (3076455996.py, line 1)",
     "output_type": "error",
     "traceback": [
      "\u001b[1;36m  Cell \u001b[1;32mIn[44], line 1\u001b[1;36m\u001b[0m\n\u001b[1;33m    and = 78\u001b[0m\n\u001b[1;37m    ^\u001b[0m\n\u001b[1;31mSyntaxError\u001b[0m\u001b[1;31m:\u001b[0m invalid syntax\n"
     ]
    }
   ],
   "source": [
    "and = 78"
   ]
  },
  {
   "cell_type": "code",
   "execution_count": 55,
   "id": "fe431fd2-ecd1-4306-bce4-63438a2e6f36",
   "metadata": {},
   "outputs": [
    {
     "ename": "SyntaxError",
     "evalue": "invalid syntax (514723562.py, line 1)",
     "output_type": "error",
     "traceback": [
      "\u001b[1;36m  Cell \u001b[1;32mIn[55], line 1\u001b[1;36m\u001b[0m\n\u001b[1;33m    continue = 7\u001b[0m\n\u001b[1;37m             ^\u001b[0m\n\u001b[1;31mSyntaxError\u001b[0m\u001b[1;31m:\u001b[0m invalid syntax\n"
     ]
    }
   ],
   "source": [
    "continue = 7"
   ]
  },
  {
   "cell_type": "code",
   "execution_count": 56,
   "id": "90186c7a-d59b-471f-8def-4d61f14aecc9",
   "metadata": {},
   "outputs": [
    {
     "ename": "SyntaxError",
     "evalue": "cannot assign to True (3093263138.py, line 1)",
     "output_type": "error",
     "traceback": [
      "\u001b[1;36m  Cell \u001b[1;32mIn[56], line 1\u001b[1;36m\u001b[0m\n\u001b[1;33m    True = 45\u001b[0m\n\u001b[1;37m    ^\u001b[0m\n\u001b[1;31mSyntaxError\u001b[0m\u001b[1;31m:\u001b[0m cannot assign to True\n"
     ]
    }
   ],
   "source": [
    "True = 45"
   ]
  },
  {
   "cell_type": "code",
   "execution_count": 59,
   "id": "c19e4073-66b1-4722-82a7-4595bfda83ad",
   "metadata": {},
   "outputs": [
    {
     "data": {
      "text/plain": [
       "100"
      ]
     },
     "execution_count": 59,
     "metadata": {},
     "output_type": "execute_result"
    }
   ],
   "source": [
    "vvvvvvvvvvvvvvvvvvvvvvvvvvvvvvvvvvvvvvvvvvvvvvvvvvvvvvvvvvvvvvvv = 100\n",
    "vvvvvvvvvvvvvvvvvvvvvvvvvvvvvvvvvvvvvvvvvvvvvvvvvvvvvvvvvvvvvvvv"
   ]
  },
  {
   "cell_type": "code",
   "execution_count": null,
   "id": "6759904d-e5f5-438e-99ad-43dca434b0af",
   "metadata": {},
   "outputs": [],
   "source": []
  },
  {
   "cell_type": "code",
   "execution_count": null,
   "id": "1ad2774d-7813-449c-a606-d948648c6fb6",
   "metadata": {},
   "outputs": [],
   "source": []
  },
  {
   "cell_type": "code",
   "execution_count": null,
   "id": "1cef4bd2-897e-4f2b-a707-adbebc1c8c49",
   "metadata": {},
   "outputs": [],
   "source": []
  },
  {
   "cell_type": "code",
   "execution_count": 13,
   "id": "06b37d9b-2d23-48d9-a84b-a49840c7614c",
   "metadata": {},
   "outputs": [
    {
     "name": "stdout",
     "output_type": "stream",
     "text": [
      "10.3\n",
      "nit\n"
     ]
    }
   ],
   "source": [
    "name = 'nit'\n",
    "student = 10.30\n",
    "\n",
    "print(student)\n",
    "print(name)"
   ]
  },
  {
   "cell_type": "code",
   "execution_count": null,
   "id": "77b0aee2-2f3f-4763-a1e7-9fbaaedb9f08",
   "metadata": {},
   "outputs": [],
   "source": []
  },
  {
   "cell_type": "code",
   "execution_count": null,
   "id": "be8937ef-da3c-44a5-9007-09d9be437ebd",
   "metadata": {},
   "outputs": [],
   "source": []
  },
  {
   "cell_type": "code",
   "execution_count": null,
   "id": "0beff45d-9bf8-4385-b56e-5d011d0527fe",
   "metadata": {},
   "outputs": [],
   "source": []
  },
  {
   "cell_type": "code",
   "execution_count": null,
   "id": "b7566fae-4545-45eb-888e-d0d4c06b3fa5",
   "metadata": {},
   "outputs": [],
   "source": []
  },
  {
   "cell_type": "code",
   "execution_count": null,
   "id": "257af7b7-c469-4de1-8a08-5b1b05abb5a8",
   "metadata": {},
   "outputs": [],
   "source": []
  }
 ],
 "metadata": {
  "kernelspec": {
   "display_name": "Python 3 (ipykernel)",
   "language": "python",
   "name": "python3"
  },
  "language_info": {
   "codemirror_mode": {
    "name": "ipython",
    "version": 3
   },
   "file_extension": ".py",
   "mimetype": "text/x-python",
   "name": "python",
   "nbconvert_exporter": "python",
   "pygments_lexer": "ipython3",
   "version": "3.11.7"
  }
 },
 "nbformat": 4,
 "nbformat_minor": 5
}
